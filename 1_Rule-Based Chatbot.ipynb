{
 "cells": [
  {
   "cell_type": "markdown",
   "metadata": {},
   "source": [
    "# Problem Statement_1:- Rule-Based Chatbot"
   ]
  },
  {
   "cell_type": "markdown",
   "metadata": {},
   "source": [
    "### Description:- Build a simple rule-based chatbot that responds to specific keywords or phrases.\n",
    "### Solution:- Implement a Python script that uses predefined rules to match user inputs and provide appropriate                               responses."
   ]
  },
  {
   "cell_type": "markdown",
   "metadata": {},
   "source": [
    "* We define a dictionary called rules where each key represents a keyword or phrase, and the associated value is a list of    possible responses.\n",
    "\n",
    "* The chatbot_response function takes user input, converts it to lowercase, and then checks if any of the keywords in the rules dictionary are present in the input. If a match is found, it selects a random response from the associated responses. If no match is found, it returns a random default response.\n",
    "\n",
    "* We use a while loop to continuously accept user input until the user types \"exit,\" at which point the chatbot says goodbye and the loop exits.\n",
    "\n",
    "* Inside the loop, we call the chatbot_response function to generate a response based on the user's input and print the response."
   ]
  },
  {
   "cell_type": "code",
   "execution_count": 1,
   "metadata": {},
   "outputs": [
    {
     "name": "stdout",
     "output_type": "stream",
     "text": [
      "ChatBot: Hi! I'm your chatbot. Type 'exit' to end the conversation.\n",
      "You: name\n",
      "ChatBot: My name is ChatBot.\n",
      "You: hey\n",
      "ChatBot: I'm not sure I understand.\n",
      "You: hello\n",
      "ChatBot: Hey!\n",
      "You: how are you\n",
      "ChatBot: I'm good, thanks!\n",
      "You: what is your age\n",
      "ChatBot: I'm just a computer program, so I don't have an age.\n",
      "You: goodbye\n",
      "ChatBot: Goodbye!\n",
      "You: exit\n",
      "ChatBot: Goodbye!\n"
     ]
    }
   ],
   "source": [
    "import random\n",
    "\n",
    "# Define a dictionary of predefined rules and responses\n",
    "rules = {\n",
    "    \"hello\": [\"Hi there!\", \"Hello!\", \"Hey!\"],\n",
    "    \"how are you\": [\"I'm good, thanks!\", \"I'm doing well, how about you?\"],\n",
    "    \"goodbye\": [\"Goodbye!\", \"See you later!\", \"Bye!\"],\n",
    "    \"name\": [\"My name is ChatBot.\", \"You can call me ChatBot.\"],\n",
    "    \"age\": [\"I'm just a computer program, so I don't have an age.\"],\n",
    "    \"default\": [\"I'm not sure I understand.\", \"Could you please rephrase that?\", \"I didn't catch that.\"]\n",
    "}\n",
    "\n",
    "# Function to generate responses based on user input\n",
    "\n",
    "def chatbot_response(user_input):\n",
    "    \n",
    "    # Convert user input to lowercase for case-insensitive matching\n",
    "    \n",
    "    user_input = user_input.lower()\n",
    "    \n",
    "    # Check if the input matches any predefined rules\n",
    "    \n",
    "    for keyword, responses in rules.items():\n",
    "        if keyword in user_input:\n",
    "            return random.choice(responses)\n",
    "    \n",
    "    # If no matching rule is found, return a default response\n",
    "    \n",
    "    return random.choice(rules[\"default\"])\n",
    "\n",
    "# Main loop for chatting\n",
    "\n",
    "print(\"ChatBot: Hi! I'm your chatbot. Type 'exit' to end the conversation.\")\n",
    "while True:\n",
    "    user_input = input(\"You: \")\n",
    "    if user_input.lower() == \"exit\":\n",
    "        print(\"ChatBot: Goodbye!\")\n",
    "        break\n",
    "    response = chatbot_response(user_input)\n",
    "    print(\"ChatBot:\", response)\n"
   ]
  }
 ],
 "metadata": {
  "kernelspec": {
   "display_name": "Python 3",
   "language": "python",
   "name": "python3"
  },
  "language_info": {
   "codemirror_mode": {
    "name": "ipython",
    "version": 3
   },
   "file_extension": ".py",
   "mimetype": "text/x-python",
   "name": "python",
   "nbconvert_exporter": "python",
   "pygments_lexer": "ipython3",
   "version": "3.8.5"
  }
 },
 "nbformat": 4,
 "nbformat_minor": 4
}
